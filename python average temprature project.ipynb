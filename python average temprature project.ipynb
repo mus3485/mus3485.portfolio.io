{
 "cells": [
  {
   "cell_type": "code",
   "execution_count": 1,
   "id": "b2e6658b-aea6-4117-927c-c25491380f63",
   "metadata": {},
   "outputs": [
    {
     "name": "stdout",
     "output_type": "stream",
     "text": [
      "Temperatures of the week: [24, 27, 22, 26, 25]\n"
     ]
    }
   ],
   "source": [
    "# Temperatures for 5 days\n",
    "temperatures = [24, 27, 22, 26, 25]\n",
    "\n",
    "# Print the temperatures\n",
    "print(\"Temperatures of the week:\", temperatures)\n"
   ]
  },
  {
   "cell_type": "code",
   "execution_count": 2,
   "id": "ebebd1f3-adef-4117-be47-de96add23baf",
   "metadata": {},
   "outputs": [
    {
     "name": "stdout",
     "output_type": "stream",
     "text": [
      "Average temperature: 24.8\n"
     ]
    }
   ],
   "source": [
    "# Calculate average\n",
    "total = sum(temperatures)\n",
    "count = len(temperatures)\n",
    "average = total / count\n",
    "\n",
    "# Print the result\n",
    "print(\"Average temperature:\", average)\n"
   ]
  },
  {
   "cell_type": "code",
   "execution_count": 3,
   "id": "90721bc8-0404-4941-95a4-882bb2237654",
   "metadata": {},
   "outputs": [
    {
     "name": "stdout",
     "output_type": "stream",
     "text": [
      "Highest temperature: 27\n",
      "Lowest temperature: 22\n"
     ]
    }
   ],
   "source": [
    "# Find max and min\n",
    "highest = max(temperatures)\n",
    "lowest = min(temperatures)\n",
    "\n",
    "print(\"Highest temperature:\", highest)\n",
    "print(\"Lowest temperature:\", lowest)\n"
   ]
  }
 ],
 "metadata": {
  "kernelspec": {
   "display_name": "Python 3 (ipykernel)",
   "language": "python",
   "name": "python3"
  },
  "language_info": {
   "codemirror_mode": {
    "name": "ipython",
    "version": 3
   },
   "file_extension": ".py",
   "mimetype": "text/x-python",
   "name": "python",
   "nbconvert_exporter": "python",
   "pygments_lexer": "ipython3",
   "version": "3.13.5"
  }
 },
 "nbformat": 4,
 "nbformat_minor": 5
}
